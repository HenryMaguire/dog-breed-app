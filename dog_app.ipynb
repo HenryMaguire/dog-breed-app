{
 "cells": [
  {
   "cell_type": "markdown",
   "metadata": {},
   "source": [
    "# Artificial Intelligence Nanodegree\n",
    "\n",
    "## Convolutional Neural Networks\n",
    "\n",
    "## Project: Write an Algorithm for a Dog Identification App \n",
    "\n",
    "---\n",
    "\n",
    "In this notebook, some template code has already been provided for you, and you will need to implement additional functionality to successfully complete this project. You will not need to modify the included code beyond what is requested. Sections that begin with **'(IMPLEMENTATION)'** in the header indicate that the following block of code will require additional functionality which you must provide. Instructions will be provided for each section, and the specifics of the implementation are marked in the code block with a 'TODO' statement. Please be sure to read the instructions carefully! \n",
    "\n",
    "> **Note**: Once you have completed all of the code implementations, you need to finalize your work by exporting the iPython Notebook as an HTML document. Before exporting the notebook to html, all of the code cells need to have been run so that reviewers can see the final implementation and output. You can then export the notebook by using the menu above and navigating to  \\n\",\n",
    "    \"**File -> Download as -> HTML (.html)**. Include the finished document along with this notebook as your submission.\n",
    "\n",
    "In addition to implementing code, there will be questions that you must answer which relate to the project and your implementation. Each section where you will answer a question is preceded by a **'Question X'** header. Carefully read each question and provide thorough answers in the following text boxes that begin with **'Answer:'**. Your project submission will be evaluated based on your answers to each of the questions and the implementation you provide.\n",
    "\n",
    ">**Note:** Code and Markdown cells can be executed using the **Shift + Enter** keyboard shortcut.  Markdown cells can be edited by double-clicking the cell to enter edit mode.\n",
    "\n",
    "The rubric contains _optional_ \"Stand Out Suggestions\" for enhancing the project beyond the minimum requirements. If you decide to pursue the \"Stand Out Suggestions\", you should include the code in this IPython notebook.\n",
    "\n",
    "\n",
    "\n",
    "---\n",
    "### Why We're Here \n",
    "\n",
    "In this notebook, you will make the first steps towards developing an algorithm that could be used as part of a mobile or web app.  At the end of this project, your code will accept any user-supplied image as input.  If a dog is detected in the image, it will provide an estimate of the dog's breed.  If a human is detected, it will provide an estimate of the dog breed that is most resembling.  The image below displays potential sample output of your finished project (... but we expect that each student's algorithm will behave differently!). \n",
    "\n",
    "![Sample Dog Output](images/sample_dog_output.png)\n",
    "\n",
    "In this real-world setting, you will need to piece together a series of models to perform different tasks; for instance, the algorithm that detects humans in an image will be different from the CNN that infers dog breed.  There are many points of possible failure, and no perfect algorithm exists.  Your imperfect solution will nonetheless create a fun user experience!\n",
    "\n",
    "### The Road Ahead\n",
    "\n",
    "We break the notebook into separate steps.  Feel free to use the links below to navigate the notebook.\n",
    "\n",
    "* [Step 0](#step0): Import Datasets\n",
    "* [Step 1](#step1): Detect Humans\n",
    "* [Step 2](#step2): Detect Dogs\n",
    "* [Step 3](#step3): Create a CNN to Classify Dog Breeds (from Scratch)\n",
    "* [Step 4](#step4): Use a CNN to Classify Dog Breeds (using Transfer Learning)\n",
    "* [Step 5](#step5): Create a CNN to Classify Dog Breeds (using Transfer Learning)\n",
    "* [Step 6](#step6): Write your Algorithm\n",
    "* [Step 7](#step7): Test Your Algorithm\n",
    "\n",
    "---\n",
    "<a id='step0'></a>\n",
    "## Step 0: Import Datasets\n",
    "\n",
    "### Import Dog Dataset\n",
    "\n",
    "In the code cell below, we import a dataset of dog images.  We populate a few variables through the use of the `load_files` function from the scikit-learn library:\n",
    "- `train_files`, `valid_files`, `test_files` - numpy arrays containing file paths to images\n",
    "- `train_targets`, `valid_targets`, `test_targets` - numpy arrays containing onehot-encoded classification labels \n",
    "- `dog_names` - list of string-valued dog breed names for translating labels"
   ]
  },
  {
   "cell_type": "code",
   "execution_count": 2,
   "metadata": {},
   "outputs": [
    {
     "name": "stdout",
     "output_type": "stream",
     "text": [
      "There are 133 total dog categories.\n",
      "There are 8351 total dog images.\n",
      "\n",
      "There are 6680 training dog images.\n",
      "There are 835 validation dog images.\n",
      "There are 836 test dog images.\n"
     ]
    }
   ],
   "source": [
    "from sklearn.datasets import load_files       \n",
    "from keras.utils import np_utils\n",
    "import numpy as np\n",
    "from glob import glob\n",
    "\n",
    "# define function to load train, test, and validation datasets\n",
    "def load_dataset(path):\n",
    "    data = load_files(path)\n",
    "    dog_files = np.array(data['filenames'])\n",
    "    dog_targets = np_utils.to_categorical(np.array(data['target']), 133)\n",
    "    return dog_files, dog_targets\n",
    "\n",
    "# load train, test, and validation datasets\n",
    "train_files, train_targets = load_dataset('dogImages/train')\n",
    "valid_files, valid_targets = load_dataset('dogImages/valid')\n",
    "test_files, test_targets = load_dataset('dogImages/test')\n",
    "\n",
    "# load list of dog names\n",
    "dog_names = [item[20:-1] for item in sorted(glob(\"dogImages/train/*/\"))]\n",
    "\n",
    "# print statistics about the dataset\n",
    "print('There are %d total dog categories.' % len(dog_names))\n",
    "print('There are %s total dog images.\\n' % len(np.hstack([train_files, valid_files, test_files])))\n",
    "print('There are %d training dog images.' % len(train_files))\n",
    "print('There are %d validation dog images.' % len(valid_files))\n",
    "print('There are %d test dog images.'% len(test_files))"
   ]
  },
  {
   "cell_type": "markdown",
   "metadata": {},
   "source": [
    "### Import Human Dataset\n",
    "\n",
    "In the code cell below, we import a dataset of human images, where the file paths are stored in the numpy array `human_files`."
   ]
  },
  {
   "cell_type": "code",
   "execution_count": 3,
   "metadata": {},
   "outputs": [
    {
     "name": "stdout",
     "output_type": "stream",
     "text": [
      "There are 13233 total human images.\n"
     ]
    }
   ],
   "source": [
    "import random\n",
    "random.seed(8675309)\n",
    "\n",
    "# load filenames in shuffled human dataset\n",
    "human_files = np.array(glob(\"lfw/*/*\"))\n",
    "random.shuffle(human_files)\n",
    "\n",
    "# print statistics about the dataset\n",
    "print('There are %d total human images.' % len(human_files))"
   ]
  },
  {
   "cell_type": "markdown",
   "metadata": {},
   "source": [
    "---\n",
    "<a id='step1'></a>\n",
    "## Step 1: Detect Humans\n",
    "\n",
    "We use OpenCV's implementation of [Haar feature-based cascade classifiers](http://docs.opencv.org/trunk/d7/d8b/tutorial_py_face_detection.html) to detect human faces in images.  OpenCV provides many pre-trained face detectors, stored as XML files on [github](https://github.com/opencv/opencv/tree/master/data/haarcascades).  We have downloaded one of these detectors and stored it in the `haarcascades` directory.\n",
    "\n",
    "In the next code cell, we demonstrate how to use this detector to find human faces in a sample image."
   ]
  },
  {
   "cell_type": "code",
   "execution_count": 4,
   "metadata": {},
   "outputs": [
    {
     "name": "stdout",
     "output_type": "stream",
     "text": [
      "lfw/Don_Lake/Don_Lake_0001.jpg\n",
      "(250, 250, 3)\n",
      "Number of faces detected: 1\n"
     ]
    },
    {
     "data": {
      "image/png": "[encoded data removed]",
      "text/plain": [
       "<matplotlib.figure.Figure at 0x7feee92e5438>"
      ]
     },
     "metadata": {},
     "output_type": "display_data"
    }
   ],
   "source": [
    "import cv2                \n",
    "import matplotlib.pyplot as plt                        \n",
    "%matplotlib inline                               \n",
    "\n",
    "# extract pre-trained face detector/Work/machine-learning/dog-project\n",
    "\n",
    "face_cascade = cv2.CascadeClassifier('haarcascades/haarcascade_frontalface_alt.xml')\n",
    "print (human_files[3])\n",
    "# load color (BGR) image\n",
    "img = cv2.imread(human_files[3])\n",
    "print (img.shape)\n",
    "# convert BGR image to grayscale\n",
    "gray = cv2.cvtColor(img, cv2.COLOR_BGR2GRAY)\n",
    "\n",
    "# find faces in image\n",
    "faces = face_cascade.detectMultiScale(gray)\n",
    "\n",
    "# print number of faces detected in the image\n",
    "print('Number of faces detected:', len(faces))\n",
    "\n",
    "# get bounding box for each detected face\n",
    "for (x,y,w,h) in faces:\n",
    "    # add bounding box to color image\n",
    "    cv2.rectangle(img,(x,y),(x+w,y+h),(255,0,0),2)\n",
    "    \n",
    "# convert BGR image to RGB for plotting\n",
    "cv_rgb = cv2.cvtColor(img, cv2.COLOR_BGR2RGB)\n",
    "\n",
    "# display the image, along with bounding box\n",
    "plt.imshow(cv_rgb)\n",
    "plt.show()"
   ]
  },
  {
   "cell_type": "markdown",
   "metadata": {},
   "source": [
    "Before using any of the face detectors, it is standard procedure to convert the images to grayscale.  The `detectMultiScale` function executes the classifier stored in `face_cascade` and takes the grayscale image as a parameter.  \n",
    "\n",
    "In the above code, `faces` is a numpy array of detected faces, where each row corresponds to a detected face.  Each detected face is a 1D array with four entries that specifies the bounding box of the detected face.  The first two entries in the array (extracted in the above code as `x` and `y`) specify the horizontal and vertical positions of the top left corner of the bounding box.  The last two entries in the array (extracted here as `w` and `h`) specify the width and height of the box.\n",
    "\n",
    "### Write a Human Face Detector\n",
    "\n",
    "We can use this procedure to write a function that returns `True` if a human face is detected in an image and `False` otherwise.  This function, aptly named `face_detector`, takes a string-valued file path to an image as input and appears in the code block below."
   ]
  },
  {
   "cell_type": "code",
   "execution_count": 5,
   "metadata": {
    "collapsed": true
   },
   "outputs": [],
   "source": [
    "# returns \"True\" if face is detected in image stored at img_path\n",
    "def face_detector(img_path):\n",
    "    img = cv2.imread(img_path)\n",
    "    gray = cv2.cvtColor(img, cv2.COLOR_BGR2GRAY)\n",
    "    faces = face_cascade.detectMultiScale(gray)\n",
    "    return len(faces) > 0"
   ]
  },
  {
   "cell_type": "markdown",
   "metadata": {},
   "source": [
    "### (IMPLEMENTATION) Assess the Human Face Detector\n",
    "\n",
    "__Question 1:__ Use the code cell below to test the performance of the `face_detector` function.  \n",
    "- What percentage of the first 100 images in `human_files` have a detected human face?  \n",
    "- What percentage of the first 100 images in `dog_files` have a detected human face? \n",
    "\n",
    "Ideally, we would like 100% of human images with a detected face and 0% of dog images with a detected face.  You will see that our algorithm falls short of this goal, but still gives acceptable performance.  We extract the file paths for the first 100 images from each of the datasets and store them in the numpy arrays `human_files_short` and `dog_files_short`.\n",
    "\n",
    "__Answer:__ "
   ]
  },
  {
   "cell_type": "code",
   "execution_count": 6,
   "metadata": {},
   "outputs": [
    {
     "name": "stdout",
     "output_type": "stream",
     "text": [
      "100.0% of human files have a face\n",
      "11.0% of dog files have a face\n"
     ]
    }
   ],
   "source": [
    "human_files_short = human_files[:100]\n",
    "dog_files_short = train_files[:100]\n",
    "# Do NOT modify the code above this line.\n",
    "def percent_with_face(files):\n",
    "    i = 0\n",
    "    for f in files:\n",
    "        if face_detector(f):\n",
    "            i+=1\n",
    "    return (i/len(files))*100\n",
    "\n",
    "print (\"{}% of human files have a face\".format(percent_with_face(human_files_short)))\n",
    "print (\"{}% of dog files have a face\".format(percent_with_face(dog_files_short)))\n"
   ]
  },
  {
   "cell_type": "markdown",
   "metadata": {},
   "source": [
    "__Question 2:__ This algorithmic choice necessitates that we communicate to the user that we accept human images only when they provide a clear view of a face (otherwise, we risk having unneccessarily frustrated users!). In your opinion, is this a reasonable expectation to pose on the user? If not, can you think of a way to detect humans in images that does not necessitate an image with a clearly presented face?\n",
    "\n",
    "__Answer:__\n",
    "Requiring that users give a clear view of their face is a reasonable expectation given the restrictions of the algorithms and the purposes of the app. However if this algorithm was to be used in a less constrained setting, for example if the discrimination of dogs/humans was to be used to decide the right proportion of human food and dog food to buy for a crowd of dog owners, you would probably not have clear pictures of their faces and would perhaps have to rely on other features of the human form. Human posture for example is fairly unique in the animal kingdom and could perhaps be distinguished by a convolutional neural network.\n",
    "\n",
    "__Optional:__\n",
    "We suggest the face detector from OpenCV as a potential way to detect human images in your algorithm, but you are free to explore other approaches, especially approaches that make use of deep learning :).  Please use the code cell below to design and test your own face detection algorithm.  If you decide to pursue this _optional_ task, report performance on each of the datasets."
   ]
  },
  {
   "cell_type": "code",
   "execution_count": 7,
   "metadata": {
    "collapsed": true
   },
   "outputs": [],
   "source": [
    "## (Optional) TODO: Report the performance of another  \n",
    "## face detection algorithm on the LFW dataset\n",
    "### Feel free to use as many code cells as needed."
   ]
  },
  {
   "cell_type": "markdown",
   "metadata": {},
   "source": [
    "---\n",
    "<a id='step2'></a>\n",
    "## Step 2: Detect Dogs\n",
    "\n",
    "In this section, we use a pre-trained [ResNet-50](http://ethereon.github.io/netscope/#/gist/db945b393d40bfa26006) model to detect dogs in images.  Our first line of code downloads the ResNet-50 model, along with weights that have been trained on [ImageNet](http://www.image-net.org/), a very large, very popular dataset used for image classification and other vision tasks.  ImageNet contains over 10 million URLs, each linking to an image containing an object from one of [1000 categories](https://gist.github.com/yrevar/942d3a0ac09ec9e5eb3a).  Given an image, this pre-trained ResNet-50 model returns a prediction (derived from the available categories in ImageNet) for the object that is contained in the image."
   ]
  },
  {
   "cell_type": "code",
   "execution_count": 8,
   "metadata": {},
   "outputs": [],
   "source": [
    "from keras.applications.resnet50 import ResNet50\n",
    "\n",
    "# define ResNet50 model\n",
    "ResNet50_model = ResNet50(weights='imagenet')"
   ]
  },
  {
   "cell_type": "markdown",
   "metadata": {},
   "source": [
    "### Pre-process the Data\n",
    "\n",
    "When using TensorFlow as backend, Keras CNNs require a 4D array (which we'll also refer to as a 4D tensor) as input, with shape\n",
    "\n",
    "$$\n",
    "(\\text{nb_samples}, \\text{rows}, \\text{columns}, \\text{channels}),\n",
    "$$\n",
    "\n",
    "where `nb_samples` corresponds to the total number of images (or samples), and `rows`, `columns`, and `channels` correspond to the number of rows, columns, and channels for each image, respectively.  \n",
    "\n",
    "The `path_to_tensor` function below takes a string-valued file path to a color image as input and returns a 4D tensor suitable for supplying to a Keras CNN.  The function first loads the image and resizes it to a square image that is $224 \\times 224$ pixels.  Next, the image is converted to an array, which is then resized to a 4D tensor.  In this case, since we are working with color images, each image has three channels.  Likewise, since we are processing a single image (or sample), the returned tensor will always have shape\n",
    "\n",
    "$$\n",
    "(1, 224, 224, 3).\n",
    "$$\n",
    "\n",
    "The `paths_to_tensor` function takes a numpy array of string-valued image paths as input and returns a 4D tensor with shape \n",
    "\n",
    "$$\n",
    "(\\text{nb_samples}, 224, 224, 3).\n",
    "$$\n",
    "\n",
    "Here, `nb_samples` is the number of samples, or number of images, in the supplied array of image paths.  It is best to think of `nb_samples` as the number of 3D tensors (where each 3D tensor corresponds to a different image) in your dataset!"
   ]
  },
  {
   "cell_type": "code",
   "execution_count": 9,
   "metadata": {
    "collapsed": true
   },
   "outputs": [],
   "source": [
    "from keras.preprocessing import image                  \n",
    "from tqdm import tqdm\n",
    "\n",
    "def path_to_tensor(img_path):\n",
    "    # loads RGB image as PIL.Image.Image type\n",
    "    img = image.load_img(img_path, target_size=(224, 224))\n",
    "    # convert PIL.Image.Image type to 3D tensor with shape (224, 224, 3)\n",
    "    x = image.img_to_array(img)\n",
    "    # convert 3D tensor to 4D tensor with shape (1, 224, 224, 3) and return 4D tensor\n",
    "    return np.expand_dims(x, axis=0)\n",
    "\n",
    "def paths_to_tensor(img_paths):\n",
    "    list_of_tensors = [path_to_tensor(img_path) for img_path in tqdm(img_paths)]\n",
    "    return np.vstack(list_of_tensors)"
   ]
  },
  {
   "cell_type": "markdown",
   "metadata": {},
   "source": [
    "### Making Predictions with ResNet-50\n",
    "\n",
    "Getting the 4D tensor ready for ResNet-50, and for any other pre-trained model in Keras, requires some additional processing.  First, the RGB image is converted to BGR by reordering the channels.  All pre-trained models have the additional normalization step that the mean pixel (expressed in RGB as $[103.939, 116.779, 123.68]$ and calculated from all pixels in all images in ImageNet) must be subtracted from every pixel in each image.  This is implemented in the imported function `preprocess_input`.  If you're curious, you can check the code for `preprocess_input` [here](https://github.com/fchollet/keras/blob/master/keras/applications/imagenet_utils.py).\n",
    "\n",
    "Now that we have a way to format our image for supplying to ResNet-50, we are now ready to use the model to extract the predictions.  This is accomplished with the `predict` method, which returns an array whose $i$-th entry is the model's predicted probability that the image belongs to the $i$-th ImageNet category.  This is implemented in the `ResNet50_predict_labels` function below.\n",
    "\n",
    "By taking the argmax of the predicted probability vector, we obtain an integer corresponding to the model's predicted object class, which we can identify with an object category through the use of this [dictionary](https://gist.github.com/yrevar/942d3a0ac09ec9e5eb3a). "
   ]
  },
  {
   "cell_type": "code",
   "execution_count": 10,
   "metadata": {
    "collapsed": true
   },
   "outputs": [],
   "source": [
    "from keras.applications.resnet50 import preprocess_input, decode_predictions\n",
    "\n",
    "def ResNet50_predict_labels(img_path):\n",
    "    # returns prediction vector for image located at img_path\n",
    "    img = preprocess_input(path_to_tensor(img_path))\n",
    "    return np.argmax(ResNet50_model.predict(img))"
   ]
  },
  {
   "cell_type": "markdown",
   "metadata": {},
   "source": [
    "### Write a Dog Detector\n",
    "\n",
    "While looking at the [dictionary](https://gist.github.com/yrevar/942d3a0ac09ec9e5eb3a), you will notice that the categories corresponding to dogs appear in an uninterrupted sequence and correspond to dictionary keys 151-268, inclusive, to include all categories from `'Chihuahua'` to `'Mexican hairless'`.  Thus, in order to check to see if an image is predicted to contain a dog by the pre-trained ResNet-50 model, we need only check if the `ResNet50_predict_labels` function above returns a value between 151 and 268 (inclusive).\n",
    "\n",
    "We use these ideas to complete the `dog_detector` function below, which returns `True` if a dog is detected in an image (and `False` if not)."
   ]
  },
  {
   "cell_type": "code",
   "execution_count": 11,
   "metadata": {
    "collapsed": true
   },
   "outputs": [],
   "source": [
    "### returns \"True\" if a dog is detected in the image stored at img_path\n",
    "def dog_detector(img_path):\n",
    "    prediction = ResNet50_predict_labels(img_path)\n",
    "    return ((prediction <= 268) & (prediction >= 151)) "
   ]
  },
  {
   "cell_type": "markdown",
   "metadata": {},
   "source": [
    "### (IMPLEMENTATION) Assess the Dog Detector\n",
    "\n",
    "__Question 3:__ Use the code cell below to test the performance of your `dog_detector` function.  \n",
    "- What percentage of the images in `human_files_short` have a detected dog?  \n",
    "- What percentage of the images in `dog_files_short` have a detected dog?\n",
    "\n",
    "__Answer:__ "
   ]
  },
  {
   "cell_type": "code",
   "execution_count": 12,
   "metadata": {},
   "outputs": [
    {
     "name": "stdout",
     "output_type": "stream",
     "text": [
      "2.0% of human files are a dog\n",
      "100.0% of dog files are a dog\n"
     ]
    }
   ],
   "source": [
    "\n",
    "def percent_are_dog(files):\n",
    "    is_dog = 0\n",
    "    for f in files:\n",
    "        if dog_detector(f):\n",
    "            is_dog+=1\n",
    "    return (is_dog/len(files))*100\n",
    "\n",
    "print (\"{}% of human files are a dog\".format(percent_are_dog(human_files_short)))\n",
    "print (\"{}% of dog files are a dog\".format(percent_are_dog(dog_files_short)))\n",
    "    "
   ]
  },
  {
   "cell_type": "markdown",
   "metadata": {},
   "source": [
    "---\n",
    "<a id='step3'></a>\n",
    "## Step 3: Create a CNN to Classify Dog Breeds (from Scratch)\n",
    "\n",
    "Now that we have functions for detecting humans and dogs in images, we need a way to predict breed from images.  In this step, you will create a CNN that classifies dog breeds.  You must create your CNN _from scratch_ (so, you can't use transfer learning _yet_!), and you must attain a test accuracy of at least 1%.  In Step 5 of this notebook, you will have the opportunity to use transfer learning to create a CNN that attains greatly improved accuracy.\n",
    "\n",
    "Be careful with adding too many trainable layers!  More parameters means longer training, which means you are more likely to need a GPU to accelerate the training process.  Thankfully, Keras provides a handy estimate of the time that each epoch is likely to take; you can extrapolate this estimate to figure out how long it will take for your algorithm to train. \n",
    "\n",
    "We mention that the task of assigning breed to dogs from images is considered exceptionally challenging.  To see why, consider that *even a human* would have great difficulty in distinguishing between a Brittany and a Welsh Springer Spaniel.  \n",
    "\n",
    "Brittany | Welsh Springer Spaniel\n",
    "- | - \n",
    "<img src=\"images/Brittany_02625.jpg\" width=\"100\"> | <img src=\"images/Welsh_springer_spaniel_08203.jpg\" width=\"200\">\n",
    "\n",
    "It is not difficult to find other dog breed pairs with minimal inter-class variation (for instance, Curly-Coated Retrievers and American Water Spaniels).  \n",
    "\n",
    "Curly-Coated Retriever | American Water Spaniel\n",
    "- | -\n",
    "<img src=\"images/Curly-coated_retriever_03896.jpg\" width=\"200\"> | <img src=\"images/American_water_spaniel_00648.jpg\" width=\"200\">\n",
    "\n",
    "\n",
    "Likewise, recall that labradors come in yellow, chocolate, and black.  Your vision-based algorithm will have to conquer this high intra-class variation to determine how to classify all of these different shades as the same breed.  \n",
    "\n",
    "Yellow Labrador | Chocolate Labrador | Black Labrador\n",
    "- | -\n",
    "<img src=\"images/Labrador_retriever_06457.jpg\" width=\"150\"> | <img src=\"images/Labrador_retriever_06455.jpg\" width=\"240\"> | <img src=\"images/Labrador_retriever_06449.jpg\" width=\"220\">\n",
    "\n",
    "We also mention that random chance presents an exceptionally low bar: setting aside the fact that the classes are slightly imabalanced, a random guess will provide a correct answer roughly 1 in 133 times, which corresponds to an accuracy of less than 1%.  \n",
    "\n",
    "Remember that the practice is far ahead of the theory in deep learning.  Experiment with many different architectures, and trust your intuition.  And, of course, have fun! \n",
    "\n",
    "### Pre-process the Data\n",
    "\n",
    "We rescale the images by dividing every pixel in every image by 255."
   ]
  },
  {
   "cell_type": "code",
   "execution_count": 13,
   "metadata": {},
   "outputs": [
    {
     "name": "stderr",
     "output_type": "stream",
     "text": [
      "100%|██████████| 6680/6680 [00:39<00:00, 170.45it/s]\n",
      "100%|██████████| 835/835 [00:04<00:00, 189.44it/s]\n",
      "100%|██████████| 836/836 [00:04<00:00, 190.37it/s]\n"
     ]
    }
   ],
   "source": [
    "from PIL import ImageFile                            \n",
    "ImageFile.LOAD_TRUNCATED_IMAGES = True                 \n",
    "\n",
    "# pre-process the data for Keras\n",
    "train_tensors = paths_to_tensor(train_files).astype('float32')/255\n",
    "valid_tensors = paths_to_tensor(valid_files).astype('float32')/255\n",
    "test_tensors = paths_to_tensor(test_files).astype('float32')/255"
   ]
  },
  {
   "cell_type": "markdown",
   "metadata": {},
   "source": [
    "### (IMPLEMENTATION) Model Architecture\n",
    "\n",
    "Create a CNN to classify dog breed.  At the end of your code cell block, summarize the layers of your model by executing the line:\n",
    "    \n",
    "        model.summary()\n",
    "\n",
    "We have imported some Python modules to get you started, but feel free to import as many modules as you need.  If you end up getting stuck, here's a hint that specifies a model that trains relatively fast on CPU and attains >1% test accuracy in 5 epochs:\n",
    "\n",
    "![Sample CNN](images/sample_cnn.png)\n",
    "           \n",
    "__Question 4:__ Outline the steps you took to get to your final CNN architecture and your reasoning at each step.  If you chose to use the hinted architecture above, describe why you think that CNN architecture should work well for the image classification task.\n",
    "\n",
    "__Answer:__ "
   ]
  },
  {
   "cell_type": "code",
   "execution_count": 14,
   "metadata": {},
   "outputs": [
    {
     "name": "stdout",
     "output_type": "stream",
     "text": [
      "_________________________________________________________________\n",
      "Layer (type)                 Output Shape              Param #   \n",
      "=================================================================\n",
      "conv2d_1 (Conv2D)            (None, 224, 224, 16)      208       \n",
      "_________________________________________________________________\n",
      "max_pooling2d_2 (MaxPooling2 (None, 74, 74, 16)        0         \n",
      "_________________________________________________________________\n",
      "conv2d_2 (Conv2D)            (None, 74, 74, 32)        2080      \n",
      "_________________________________________________________________\n",
      "max_pooling2d_3 (MaxPooling2 (None, 24, 24, 32)        0         \n",
      "_________________________________________________________________\n",
      "dropout_1 (Dropout)          (None, 24, 24, 32)        0         \n",
      "_________________________________________________________________\n",
      "conv2d_3 (Conv2D)            (None, 24, 24, 64)        8256      \n",
      "_________________________________________________________________\n",
      "max_pooling2d_4 (MaxPooling2 (None, 8, 8, 64)          0         \n",
      "_________________________________________________________________\n",
      "dropout_2 (Dropout)          (None, 8, 8, 64)          0         \n",
      "_________________________________________________________________\n",
      "global_average_pooling2d_1 ( (None, 64)                0         \n",
      "_________________________________________________________________\n",
      "dense_1 (Dense)              (None, 133)               8645      \n",
      "=================================================================\n",
      "Total params: 19,189.0\n",
      "Trainable params: 19,189.0\n",
      "Non-trainable params: 0.0\n",
      "_________________________________________________________________\n"
     ]
    }
   ],
   "source": [
    "from keras.layers import Conv2D, MaxPooling2D, GlobalAveragePooling2D\n",
    "from keras.layers import Dropout, Flatten, Dense, Input\n",
    "from keras.models import Sequential\n",
    "height = 224\n",
    "width = 224 # Pixels\n",
    "depth = 3 # RGB\n",
    "dog_breeds = 133\n",
    "kernel_size = 2 # 3x3 convolutions\n",
    "conv_hidden_1 = 16 # hidden layers get progressively larger\n",
    "conv_hidden_2 = 32\n",
    "conv_hidden_3 = 64\n",
    "dense_hidden = 10\n",
    "max_pool_stride = 2\n",
    "max_pool_size = 3\n",
    "dropout_prob = 0.7\n",
    "input_shape=(height, width, depth)\n",
    "model = Sequential()\n",
    "\n",
    "model.add(Conv2D(conv_hidden_1, (kernel_size, kernel_size), padding='same',\n",
    "                                 activation='relu', input_shape=input_shape))\n",
    "model.add(MaxPooling2D(pool_size=(max_pool_size, max_pool_size)))\n",
    "model.add(Conv2D(conv_hidden_2, (kernel_size, kernel_size), padding='same', activation='relu'))\n",
    "model.add(MaxPooling2D(pool_size=(max_pool_size, max_pool_size)))\n",
    "model.add(Dropout(dropout_prob))\n",
    "model.add(Conv2D(conv_hidden_3, (kernel_size, kernel_size), padding='same', activation='relu'))\n",
    "model.add(MaxPooling2D(pool_size=(max_pool_size, max_pool_size)))\n",
    "\n",
    "model.add(Dropout(dropout_prob))\n",
    "\n",
    "model.add(GlobalAveragePooling2D())\n",
    "model.add(Dense(dog_breeds, activation='softmax'))\n",
    "#model.add(Flatten())\n",
    "model.summary()"
   ]
  },
  {
   "cell_type": "markdown",
   "metadata": {},
   "source": [
    "### Compile the Model"
   ]
  },
  {
   "cell_type": "code",
   "execution_count": 15,
   "metadata": {
    "collapsed": true
   },
   "outputs": [],
   "source": [
    "model.compile(optimizer='rmsprop', loss='categorical_crossentropy', metrics=['accuracy'])"
   ]
  },
  {
   "cell_type": "markdown",
   "metadata": {},
   "source": [
    "### (IMPLEMENTATION) Train the Model\n",
    "\n",
    "Train your model in the code cell below.  Use model checkpointing to save the model that attains the best validation loss.\n",
    "\n",
    "You are welcome to [augment the training data](https://blog.keras.io/building-powerful-image-classification-models-using-very-little-data.html), but this is not a requirement. "
   ]
  },
  {
   "cell_type": "code",
   "execution_count": 18,
   "metadata": {},
   "outputs": [
    {
     "name": "stdout",
     "output_type": "stream",
     "text": [
      "Train on 6680 samples, validate on 835 samples\n",
      "Epoch 1/20\n",
      "6672/6680 [============================>.] - ETA: 0s - loss: 4.7514 - acc: 0.0226Epoch 00000: val_loss improved from inf to 4.77598, saving model to saved_models/weights.best.from_scratch.hdf5\n",
      "6680/6680 [==============================] - 109s - loss: 4.7515 - acc: 0.0228 - val_loss: 4.7760 - val_acc: 0.0216\n",
      "Epoch 2/20\n",
      "6672/6680 [============================>.] - ETA: 0s - loss: 4.7116 - acc: 0.0262Epoch 00001: val_loss improved from 4.77598 to 4.74438, saving model to saved_models/weights.best.from_scratch.hdf5\n",
      "6680/6680 [==============================] - 109s - loss: 4.7117 - acc: 0.0263 - val_loss: 4.7444 - val_acc: 0.0299\n",
      "Epoch 3/20\n",
      "6672/6680 [============================>.] - ETA: 0s - loss: 4.6730 - acc: 0.0313Epoch 00002: val_loss improved from 4.74438 to 4.70806, saving model to saved_models/weights.best.from_scratch.hdf5\n",
      "6680/6680 [==============================] - 110s - loss: 4.6727 - acc: 0.0313 - val_loss: 4.7081 - val_acc: 0.0311\n",
      "Epoch 4/20\n",
      "6672/6680 [============================>.] - ETA: 0s - loss: 4.6427 - acc: 0.0327Epoch 00003: val_loss improved from 4.70806 to 4.68029, saving model to saved_models/weights.best.from_scratch.hdf5\n",
      "6680/6680 [==============================] - 109s - loss: 4.6431 - acc: 0.0326 - val_loss: 4.6803 - val_acc: 0.0359\n",
      "Epoch 5/20\n",
      "6672/6680 [============================>.] - ETA: 0s - loss: 4.6173 - acc: 0.0330Epoch 00004: val_loss improved from 4.68029 to 4.65365, saving model to saved_models/weights.best.from_scratch.hdf5\n",
      "6680/6680 [==============================] - 109s - loss: 4.6169 - acc: 0.0329 - val_loss: 4.6537 - val_acc: 0.0419\n",
      "Epoch 6/20\n",
      "6672/6680 [============================>.] - ETA: 0s - loss: 4.5945 - acc: 0.0369Epoch 00005: val_loss did not improve\n",
      "6680/6680 [==============================] - 109s - loss: 4.5940 - acc: 0.0370 - val_loss: 4.6565 - val_acc: 0.0347\n",
      "Epoch 7/20\n",
      "6672/6680 [============================>.] - ETA: 0s - loss: 4.5656 - acc: 0.0418Epoch 00006: val_loss did not improve\n",
      "6680/6680 [==============================] - 110s - loss: 4.5661 - acc: 0.0418 - val_loss: 4.6667 - val_acc: 0.0228\n",
      "Epoch 8/20\n",
      "6672/6680 [============================>.] - ETA: 0s - loss: 4.5445 - acc: 0.0432Epoch 00007: val_loss improved from 4.65365 to 4.60998, saving model to saved_models/weights.best.from_scratch.hdf5\n",
      "6680/6680 [==============================] - 110s - loss: 4.5441 - acc: 0.0431 - val_loss: 4.6100 - val_acc: 0.0347\n",
      "Epoch 9/20\n",
      "6672/6680 [============================>.] - ETA: 0s - loss: 4.5207 - acc: 0.0424Epoch 00008: val_loss did not improve\n",
      "6680/6680 [==============================] - 109s - loss: 4.5205 - acc: 0.0425 - val_loss: 4.6312 - val_acc: 0.0371\n",
      "Epoch 10/20\n",
      "6672/6680 [============================>.] - ETA: 0s - loss: 4.4989 - acc: 0.0456Epoch 00009: val_loss improved from 4.60998 to 4.56976, saving model to saved_models/weights.best.from_scratch.hdf5\n",
      "6680/6680 [==============================] - 109s - loss: 4.4986 - acc: 0.0458 - val_loss: 4.5698 - val_acc: 0.0383\n",
      "Epoch 11/20\n",
      "6672/6680 [============================>.] - ETA: 0s - loss: 4.4790 - acc: 0.0490Epoch 00010: val_loss did not improve\n",
      "6680/6680 [==============================] - 110s - loss: 4.4788 - acc: 0.0491 - val_loss: 4.5963 - val_acc: 0.0431\n",
      "Epoch 12/20\n",
      "6672/6680 [============================>.] - ETA: 0s - loss: 4.4520 - acc: 0.0534Epoch 00011: val_loss improved from 4.56976 to 4.55552, saving model to saved_models/weights.best.from_scratch.hdf5\n",
      "6680/6680 [==============================] - 110s - loss: 4.4519 - acc: 0.0533 - val_loss: 4.5555 - val_acc: 0.0455\n",
      "Epoch 13/20\n",
      "6672/6680 [============================>.] - ETA: 0s - loss: 4.4284 - acc: 0.0493Epoch 00012: val_loss improved from 4.55552 to 4.52185, saving model to saved_models/weights.best.from_scratch.hdf5\n",
      "6680/6680 [==============================] - 110s - loss: 4.4283 - acc: 0.0494 - val_loss: 4.5218 - val_acc: 0.0503\n",
      "Epoch 14/20\n",
      "6672/6680 [============================>.] - ETA: 0s - loss: 4.4110 - acc: 0.0546Epoch 00013: val_loss did not improve\n",
      "6680/6680 [==============================] - 110s - loss: 4.4111 - acc: 0.0545 - val_loss: 4.5388 - val_acc: 0.0395\n",
      "Epoch 15/20\n",
      "6672/6680 [============================>.] - ETA: 0s - loss: 4.3879 - acc: 0.0538Epoch 00014: val_loss improved from 4.52185 to 4.51551, saving model to saved_models/weights.best.from_scratch.hdf5\n",
      "6680/6680 [==============================] - 109s - loss: 4.3876 - acc: 0.0540 - val_loss: 4.5155 - val_acc: 0.0503\n",
      "Epoch 16/20\n",
      "6672/6680 [============================>.] - ETA: 0s - loss: 4.3660 - acc: 0.0561Epoch 00015: val_loss did not improve\n",
      "6680/6680 [==============================] - 110s - loss: 4.3659 - acc: 0.0561 - val_loss: 4.5227 - val_acc: 0.0539\n",
      "Epoch 17/20\n",
      "6672/6680 [============================>.] - ETA: 0s - loss: 4.3512 - acc: 0.0597Epoch 00016: val_loss improved from 4.51551 to 4.46356, saving model to saved_models/weights.best.from_scratch.hdf5\n",
      "6680/6680 [==============================] - 110s - loss: 4.3506 - acc: 0.0597 - val_loss: 4.4636 - val_acc: 0.0479\n",
      "Epoch 18/20\n",
      "6672/6680 [============================>.] - ETA: 0s - loss: 4.3250 - acc: 0.0632Epoch 00017: val_loss did not improve\n",
      "6680/6680 [==============================] - 110s - loss: 4.3248 - acc: 0.0632 - val_loss: 4.5234 - val_acc: 0.0323\n",
      "Epoch 19/20\n",
      "6672/6680 [============================>.] - ETA: 0s - loss: 4.3024 - acc: 0.0640Epoch 00018: val_loss improved from 4.46356 to 4.44914, saving model to saved_models/weights.best.from_scratch.hdf5\n",
      "6680/6680 [==============================] - 110s - loss: 4.3026 - acc: 0.0639 - val_loss: 4.4491 - val_acc: 0.0515\n",
      "Epoch 20/20\n",
      "6672/6680 [============================>.] - ETA: 0s - loss: 4.3014 - acc: 0.0634Epoch 00019: val_loss did not improve\n",
      "6680/6680 [==============================] - 110s - loss: 4.3015 - acc: 0.0635 - val_loss: 4.4711 - val_acc: 0.0527\n"
     ]
    },
    {
     "data": {
      "text/plain": [
       "<keras.callbacks.History at 0x7fee35b04f28>"
      ]
     },
     "execution_count": 18,
     "metadata": {},
     "output_type": "execute_result"
    }
   ],
   "source": [
    "from keras.callbacks import ModelCheckpoint  \n",
    "\n",
    "### TODO: specify the number of epochs that you would like to use to train the model.\n",
    "\n",
    "epochs = 20\n",
    "\n",
    "### Do NOT modify the code below this line.\n",
    "\n",
    "checkpointer = ModelCheckpoint(filepath='saved_models/weights.best.from_scratch.hdf5', \n",
    "                               verbose=1, save_best_only=True)\n",
    "\n",
    "model.fit(train_tensors, train_targets, \n",
    "          validation_data=(valid_tensors, valid_targets),\n",
    "          epochs=epochs, batch_size=12, callbacks=[checkpointer], verbose=1)"
   ]
  },
  {
   "cell_type": "markdown",
   "metadata": {},
   "source": [
    "### Load the Model with the Best Validation Loss"
   ]
  },
  {
   "cell_type": "code",
   "execution_count": 19,
   "metadata": {
    "collapsed": true
   },
   "outputs": [],
   "source": [
    "model.load_weights('saved_models/weights.best.from_scratch.hdf5')"
   ]
  },
  {
   "cell_type": "markdown",
   "metadata": {},
   "source": [
    "### Test the Model\n",
    "\n",
    "Try out your model on the test dataset of dog images.  Ensure that your test accuracy is greater than 1%."
   ]
  },
  {
   "cell_type": "code",
   "execution_count": 20,
   "metadata": {},
   "outputs": [
    {
     "name": "stdout",
     "output_type": "stream",
     "text": [
      "Test accuracy: 6.1005%\n"
     ]
    }
   ],
   "source": [
    "# get index of predicted dog breed for each image in test set\n",
    "dog_breed_predictions = [np.argmax(model.predict(np.expand_dims(tensor, axis=0))) for tensor in test_tensors]\n",
    "\n",
    "# report test accuracy\n",
    "test_accuracy = 100*np.sum(np.array(dog_breed_predictions)==np.argmax(test_targets, axis=1))/len(dog_breed_predictions)\n",
    "print('Test accuracy: %.4f%%' % test_accuracy)"
   ]
  },
  {
   "cell_type": "markdown",
   "metadata": {},
   "source": [
    "---\n",
    "<a id='step4'></a>\n",
    "## Step 4: Use a CNN to Classify Dog Breeds\n",
    "\n",
    "To reduce training time without sacrificing accuracy, we show you how to train a CNN using transfer learning.  In the following step, you will get a chance to use transfer learning to train your own CNN.\n",
    "\n",
    "### Obtain Bottleneck Features"
   ]
  },
  {
   "cell_type": "code",
   "execution_count": 22,
   "metadata": {},
   "outputs": [],
   "source": [
    "bottleneck_features = np.load('bottleneck_features/DogVGG16Data.npz')\n",
    "train_VGG16 = bottleneck_features['train']\n",
    "valid_VGG16 = bottleneck_features['valid']\n",
    "test_VGG16 = bottleneck_features['test']"
   ]
  },
  {
   "cell_type": "markdown",
   "metadata": {},
   "source": [
    "### Model Architecture\n",
    "\n",
    "The model uses the the pre-trained VGG-16 model as a fixed feature extractor, where the last convolutional output of VGG-16 is fed as input to our model.  We only add a global average pooling layer and a fully connected layer, where the latter contains one node for each dog category and is equipped with a softmax."
   ]
  },
  {
   "cell_type": "code",
   "execution_count": 23,
   "metadata": {},
   "outputs": [
    {
     "name": "stdout",
     "output_type": "stream",
     "text": [
      "_________________________________________________________________\n",
      "Layer (type)                 Output Shape              Param #   \n",
      "=================================================================\n",
      "global_average_pooling2d_2 ( (None, 512)               0         \n",
      "_________________________________________________________________\n",
      "dense_2 (Dense)              (None, 133)               68229     \n",
      "=================================================================\n",
      "Total params: 68,229.0\n",
      "Trainable params: 68,229.0\n",
      "Non-trainable params: 0.0\n",
      "_________________________________________________________________\n"
     ]
    }
   ],
   "source": [
    "VGG16_model = Sequential()\n",
    "VGG16_model.add(GlobalAveragePooling2D(input_shape=train_VGG16.shape[1:]))\n",
    "VGG16_model.add(Dense(133, activation='softmax'))\n",
    "\n",
    "VGG16_model.summary()"
   ]
  },
  {
   "cell_type": "markdown",
   "metadata": {},
   "source": [
    "### Compile the Model"
   ]
  },
  {
   "cell_type": "code",
   "execution_count": 24,
   "metadata": {
    "collapsed": true
   },
   "outputs": [],
   "source": [
    "VGG16_model.compile(loss='categorical_crossentropy', optimizer='rmsprop', metrics=['accuracy'])"
   ]
  },
  {
   "cell_type": "markdown",
   "metadata": {},
   "source": [
    "### Train the Model"
   ]
  },
  {
   "cell_type": "code",
   "execution_count": 25,
   "metadata": {},
   "outputs": [
    {
     "name": "stdout",
     "output_type": "stream",
     "text": [
      "Train on 6680 samples, validate on 835 samples\n",
      "Epoch 1/20\n",
      "6600/6680 [============================>.] - ETA: 0s - loss: 12.2475 - acc: 0.1247Epoch 00000: val_loss improved from inf to 10.68510, saving model to saved_models/weights.best.VGG16.hdf5\n",
      "6680/6680 [==============================] - 2s - loss: 12.2213 - acc: 0.1256 - val_loss: 10.6851 - val_acc: 0.2192\n",
      "Epoch 2/20\n",
      "6540/6680 [============================>.] - ETA: 0s - loss: 9.9173 - acc: 0.2919Epoch 00001: val_loss improved from 10.68510 to 9.92359, saving model to saved_models/weights.best.VGG16.hdf5\n",
      "6680/6680 [==============================] - 1s - loss: 9.9135 - acc: 0.2922 - val_loss: 9.9236 - val_acc: 0.2778\n",
      "Epoch 3/20\n",
      "6520/6680 [============================>.] - ETA: 0s - loss: 9.2860 - acc: 0.3534Epoch 00002: val_loss improved from 9.92359 to 9.53601, saving model to saved_models/weights.best.VGG16.hdf5\n",
      "6680/6680 [==============================] - 1s - loss: 9.3126 - acc: 0.3519 - val_loss: 9.5360 - val_acc: 0.3234\n",
      "Epoch 4/20\n",
      "6600/6680 [============================>.] - ETA: 0s - loss: 9.0264 - acc: 0.3909Epoch 00003: val_loss improved from 9.53601 to 9.36526, saving model to saved_models/weights.best.VGG16.hdf5\n",
      "6680/6680 [==============================] - 1s - loss: 9.0167 - acc: 0.3915 - val_loss: 9.3653 - val_acc: 0.3389\n",
      "Epoch 5/20\n",
      "6580/6680 [============================>.] - ETA: 0s - loss: 8.7908 - acc: 0.4094Epoch 00004: val_loss improved from 9.36526 to 9.04225, saving model to saved_models/weights.best.VGG16.hdf5\n",
      "6680/6680 [==============================] - 2s - loss: 8.7627 - acc: 0.4111 - val_loss: 9.0422 - val_acc: 0.3509\n",
      "Epoch 6/20\n",
      "6600/6680 [============================>.] - ETA: 0s - loss: 8.3917 - acc: 0.4338Epoch 00005: val_loss improved from 9.04225 to 8.81031, saving model to saved_models/weights.best.VGG16.hdf5\n",
      "6680/6680 [==============================] - 2s - loss: 8.3825 - acc: 0.4343 - val_loss: 8.8103 - val_acc: 0.3808\n",
      "Epoch 7/20\n",
      "6560/6680 [============================>.] - ETA: 0s - loss: 8.1753 - acc: 0.4625Epoch 00006: val_loss improved from 8.81031 to 8.70662, saving model to saved_models/weights.best.VGG16.hdf5\n",
      "6680/6680 [==============================] - 1s - loss: 8.1673 - acc: 0.4624 - val_loss: 8.7066 - val_acc: 0.3952\n",
      "Epoch 8/20\n",
      "6520/6680 [============================>.] - ETA: 0s - loss: 8.1419 - acc: 0.4742Epoch 00007: val_loss did not improve\n",
      "6680/6680 [==============================] - 1s - loss: 8.1278 - acc: 0.4747 - val_loss: 8.7076 - val_acc: 0.3844\n",
      "Epoch 9/20\n",
      "6500/6680 [============================>.] - ETA: 0s - loss: 8.0731 - acc: 0.4814Epoch 00008: val_loss improved from 8.70662 to 8.59085, saving model to saved_models/weights.best.VGG16.hdf5\n",
      "6680/6680 [==============================] - 1s - loss: 8.0725 - acc: 0.4814 - val_loss: 8.5909 - val_acc: 0.3916\n",
      "Epoch 10/20\n",
      "6520/6680 [============================>.] - ETA: 0s - loss: 7.9777 - acc: 0.4925Epoch 00009: val_loss did not improve\n",
      "6680/6680 [==============================] - 1s - loss: 7.9683 - acc: 0.4931 - val_loss: 8.5957 - val_acc: 0.4108\n",
      "Epoch 11/20\n",
      "6480/6680 [============================>.] - ETA: 0s - loss: 7.9316 - acc: 0.4975Epoch 00010: val_loss improved from 8.59085 to 8.52529, saving model to saved_models/weights.best.VGG16.hdf5\n",
      "6680/6680 [==============================] - 2s - loss: 7.9442 - acc: 0.4966 - val_loss: 8.5253 - val_acc: 0.4024\n",
      "Epoch 12/20\n",
      "6540/6680 [============================>.] - ETA: 0s - loss: 7.9267 - acc: 0.5006Epoch 00011: val_loss did not improve\n",
      "6680/6680 [==============================] - 1s - loss: 7.9276 - acc: 0.5004 - val_loss: 8.5260 - val_acc: 0.4072\n",
      "Epoch 13/20\n",
      "6620/6680 [============================>.] - ETA: 0s - loss: 7.8913 - acc: 0.5015Epoch 00012: val_loss did not improve\n",
      "6680/6680 [==============================] - 2s - loss: 7.8952 - acc: 0.5013 - val_loss: 8.5398 - val_acc: 0.4072\n",
      "Epoch 14/20\n",
      "6580/6680 [============================>.] - ETA: 0s - loss: 7.7714 - acc: 0.5079Epoch 00013: val_loss improved from 8.52529 to 8.41458, saving model to saved_models/weights.best.VGG16.hdf5\n",
      "6680/6680 [==============================] - 2s - loss: 7.7686 - acc: 0.5082 - val_loss: 8.4146 - val_acc: 0.4108\n",
      "Epoch 15/20\n",
      "6620/6680 [============================>.] - ETA: 0s - loss: 7.6495 - acc: 0.5088Epoch 00014: val_loss improved from 8.41458 to 8.32643, saving model to saved_models/weights.best.VGG16.hdf5\n",
      "6680/6680 [==============================] - 2s - loss: 7.6394 - acc: 0.5094 - val_loss: 8.3264 - val_acc: 0.4120\n",
      "Epoch 16/20\n",
      "6600/6680 [============================>.] - ETA: 0s - loss: 7.5079 - acc: 0.5244Epoch 00015: val_loss improved from 8.32643 to 8.24328, saving model to saved_models/weights.best.VGG16.hdf5\n",
      "6680/6680 [==============================] - 2s - loss: 7.5147 - acc: 0.5237 - val_loss: 8.2433 - val_acc: 0.4287\n",
      "Epoch 17/20\n",
      "6580/6680 [============================>.] - ETA: 0s - loss: 7.4482 - acc: 0.5287Epoch 00016: val_loss improved from 8.24328 to 8.23565, saving model to saved_models/weights.best.VGG16.hdf5\n",
      "6680/6680 [==============================] - 1s - loss: 7.4563 - acc: 0.5283 - val_loss: 8.2357 - val_acc: 0.4168\n",
      "Epoch 18/20\n",
      "6600/6680 [============================>.] - ETA: 0s - loss: 7.4069 - acc: 0.5324Epoch 00017: val_loss did not improve\n",
      "6680/6680 [==============================] - 2s - loss: 7.4118 - acc: 0.5319 - val_loss: 8.2929 - val_acc: 0.4263\n",
      "Epoch 19/20\n",
      "6500/6680 [============================>.] - ETA: 0s - loss: 7.4152 - acc: 0.5335Epoch 00018: val_loss improved from 8.23565 to 8.22614, saving model to saved_models/weights.best.VGG16.hdf5\n",
      "6680/6680 [==============================] - 1s - loss: 7.3778 - acc: 0.5352 - val_loss: 8.2261 - val_acc: 0.4180\n",
      "Epoch 20/20\n",
      "6580/6680 [============================>.] - ETA: 0s - loss: 7.3069 - acc: 0.5381Epoch 00019: val_loss improved from 8.22614 to 8.11949, saving model to saved_models/weights.best.VGG16.hdf5\n",
      "6680/6680 [==============================] - 2s - loss: 7.3169 - acc: 0.5374 - val_loss: 8.1195 - val_acc: 0.4251\n"
     ]
    },
    {
     "data": {
      "text/plain": [
       "<keras.callbacks.History at 0x7fee344e1a20>"
      ]
     },
     "execution_count": 25,
     "metadata": {},
     "output_type": "execute_result"
    }
   ],
   "source": [
    "checkpointer = ModelCheckpoint(filepath='saved_models/weights.best.VGG16.hdf5', \n",
    "                               verbose=1, save_best_only=True)\n",
    "\n",
    "VGG16_model.fit(train_VGG16, train_targets, \n",
    "          validation_data=(valid_VGG16, valid_targets),\n",
    "          epochs=20, batch_size=20, callbacks=[checkpointer], verbose=1)"
   ]
  },
  {
   "cell_type": "markdown",
   "metadata": {},
   "source": [
    "### Load the Model with the Best Validation Loss"
   ]
  },
  {
   "cell_type": "code",
   "execution_count": 26,
   "metadata": {
    "collapsed": true
   },
   "outputs": [],
   "source": [
    "VGG16_model.load_weights('saved_models/weights.best.VGG16.hdf5')"
   ]
  },
  {
   "cell_type": "markdown",
   "metadata": {},
   "source": [
    "### Test the Model\n",
    "\n",
    "Now, we can use the CNN to test how well it identifies breed within our test dataset of dog images.  We print the test accuracy below."
   ]
  },
  {
   "cell_type": "code",
   "execution_count": 27,
   "metadata": {},
   "outputs": [
    {
     "name": "stdout",
     "output_type": "stream",
     "text": [
      "Test accuracy: 42.4641%\n"
     ]
    }
   ],
   "source": [
    "# get index of predicted dog breed for each image in test set\n",
    "VGG16_predictions = [np.argmax(VGG16_model.predict(np.expand_dims(feature, axis=0))) for feature in test_VGG16]\n",
    "\n",
    "# report test accuracy\n",
    "test_accuracy = 100*np.sum(np.array(VGG16_predictions)==np.argmax(test_targets, axis=1))/len(VGG16_predictions)\n",
    "print('Test accuracy: %.4f%%' % test_accuracy)"
   ]
  },
  {
   "cell_type": "markdown",
   "metadata": {},
   "source": [
    "### Predict Dog Breed with the Model"
   ]
  },
  {
   "cell_type": "code",
   "execution_count": 50,
   "metadata": {},
   "outputs": [
    {
     "name": "stdout",
     "output_type": "stream",
     "text": [
      "Downloading data from https://github.com/fchollet/deep-learning-models/releases/download/v0.1/vgg16_weights_tf_dim_ordering_tf_kernels_notop.h5\n"
     ]
    },
    {
     "data": {
      "text/plain": [
       "'Australian_shepherd'"
      ]
     },
     "execution_count": 50,
     "metadata": {},
     "output_type": "execute_result"
    }
   ],
   "source": [
    "from extract_bottleneck_features import *\n",
    "\n",
    "def VGG16_predict_breed(img_path):\n",
    "    # extract bottleneck features\n",
    "    bottleneck_feature = extract_VGG16(path_to_tensor(img_path))\n",
    "    # obtain predicted vector\n",
    "    predicted_vector = VGG16_model.predict(bottleneck_feature)\n",
    "    # return dog breed that is predicted by the model\n",
    "    return dog_names[np.argmax(predicted_vector)]\n",
    "\n",
    "VGG16_predict_breed('dogImages/valid/023.Bernese_mountain_dog/Bernese_mountain_dog_01635.jpg')"
   ]
  },
  {
   "cell_type": "markdown",
   "metadata": {},
   "source": [
    "---\n",
    "<a id='step5'></a>\n",
    "## Step 5: Create a CNN to Classify Dog Breeds (using Transfer Learning)\n",
    "\n",
    "You will now use transfer learning to create a CNN that can identify dog breed from images.  Your CNN must attain at least 60% accuracy on the test set.\n",
    "\n",
    "In Step 4, we used transfer learning to create a CNN using VGG-16 bottleneck features.  In this section, you must use the bottleneck features from a different pre-trained model.  To make things easier for you, we have pre-computed the features for all of the networks that are currently available in Keras:\n",
    "- [VGG-19](https://s3-us-west-1.amazonaws.com/udacity-aind/dog-project/DogVGG19Data.npz) bottleneck features\n",
    "- [ResNet-50](https://s3-us-west-1.amazonaws.com/udacity-aind/dog-project/DogResnet50Data.npz) bottleneck features\n",
    "- [Inception](https://s3-us-west-1.amazonaws.com/udacity-aind/dog-project/DogInceptionV3Data.npz) bottleneck features\n",
    "- [Xception](https://s3-us-west-1.amazonaws.com/udacity-aind/dog-project/DogXceptionData.npz) bottleneck features\n",
    "\n",
    "The files are encoded as such:\n",
    "\n",
    "    Dog{network}Data.npz\n",
    "    \n",
    "where `{network}`, in the above filename, can be one of `VGG19`, `Resnet50`, `InceptionV3`, or `Xception`.  Pick one of the above architectures, download the corresponding bottleneck features, and store the downloaded file in the `bottleneck_features/` folder in the repository.\n",
    "\n",
    "### (IMPLEMENTATION) Obtain Bottleneck Features\n",
    "\n",
    "In the code block below, extract the bottleneck features corresponding to the train, test, and validation sets by running the following:\n",
    "\n",
    "    bottleneck_features = np.load('bottleneck_features/Dog{network}Data.npz')\n",
    "    train_{network} = bottleneck_features['train']\n",
    "    valid_{network} = bottleneck_features['valid']\n",
    "    test_{network} = bottleneck_features['test']"
   ]
  },
  {
   "cell_type": "code",
   "execution_count": 39,
   "metadata": {},
   "outputs": [],
   "source": [
    "bottleneck_features = np.load('bottleneck_features/DogResnet50Data.npz')\n",
    "train_Resnet50 = bottleneck_features['train']\n",
    "valid_Resnet50 = bottleneck_features['valid']\n",
    "test_Resnet50 = bottleneck_features['test']"
   ]
  },
  {
   "cell_type": "markdown",
   "metadata": {},
   "source": [
    "### (IMPLEMENTATION) Model Architecture\n",
    "\n",
    "Create a CNN to classify dog breed.  At the end of your code cell block, summarize the layers of your model by executing the line:\n",
    "    \n",
    "        <your model's name>.summary()\n",
    "   \n",
    "__Question 5:__ Outline the steps you took to get to your final CNN architecture and your reasoning at each step.  Describe why you think the architecture is suitable for the current problem.\n",
    "\n",
    "__Answer:__ We take the final output of the Resnet50 CNN as input to our model. The numhber of nodes in the final hidden layer is quite large so it helps to perform a fairly harsh compression of this information using a global average pooling, like in the previous example. Two fully connected layers were then used, with a dropout layer in between to increase model robustness and avoid overfitting. Having a dropout probability of 0.5 seemed to be successful. The activation chosen for the first FC layer was a RELU, which helps to avoid exploding gradients during back-propagation. The final output was passed through a softmax to get a probability distribution over the 133 different dog breeds. This should be able to extract enough information from the CNN output.\n",
    "\n"
   ]
  },
  {
   "cell_type": "code",
   "execution_count": 86,
   "metadata": {},
   "outputs": [
    {
     "name": "stdout",
     "output_type": "stream",
     "text": [
      "_________________________________________________________________\n",
      "Layer (type)                 Output Shape              Param #   \n",
      "=================================================================\n",
      "global_average_pooling2d_13  (None, 2048)              0         \n",
      "_________________________________________________________________\n",
      "dense_20 (Dense)             (None, 256)               524544    \n",
      "_________________________________________________________________\n",
      "dropout_10 (Dropout)         (None, 256)               0         \n",
      "_________________________________________________________________\n",
      "dense_21 (Dense)             (None, 133)               34181     \n",
      "=================================================================\n",
      "Total params: 558,725.0\n",
      "Trainable params: 558,725.0\n",
      "Non-trainable params: 0.0\n",
      "_________________________________________________________________\n"
     ]
    }
   ],
   "source": [
    "dropout_prob = 0.5\n",
    "Resnet50_model = Sequential()\n",
    "Resnet50_model.add(GlobalAveragePooling2D(input_shape=train_Resnet50.shape[1:]))\n",
    "Resnet50_model.add(Dense(256, activation='relu'))\n",
    "Resnet50_model.add(Dropout(dropout_prob))\n",
    "Resnet50_model.add(Dense(133, activation='softmax'))\n",
    "\n",
    "Resnet50_model.summary()"
   ]
  },
  {
   "cell_type": "markdown",
   "metadata": {},
   "source": [
    "### (IMPLEMENTATION) Compile the Model"
   ]
  },
  {
   "cell_type": "code",
   "execution_count": 87,
   "metadata": {
    "collapsed": true
   },
   "outputs": [],
   "source": [
    "Resnet50_model.compile(loss='categorical_crossentropy', optimizer='rmsprop', metrics=['accuracy'])"
   ]
  },
  {
   "cell_type": "markdown",
   "metadata": {},
   "source": [
    "### (IMPLEMENTATION) Train the Model\n",
    "\n",
    "Train your model in the code cell below.  Use model checkpointing to save the model that attains the best validation loss.  \n",
    "\n",
    "You are welcome to [augment the training data](https://blog.keras.io/building-powerful-image-classification-models-using-very-little-data.html), but this is not a requirement. "
   ]
  },
  {
   "cell_type": "code",
   "execution_count": 88,
   "metadata": {},
   "outputs": [
    {
     "name": "stdout",
     "output_type": "stream",
     "text": [
      "Train on 6680 samples, validate on 835 samples\n",
      "Epoch 1/20\n",
      "6620/6680 [============================>.] - ETA: 0s - loss: 3.1072 - acc: 0.2860Epoch 00000: val_loss improved from inf to 1.21578, saving model to saved_models/weights.best.Resnet50.hdf5\n",
      "6680/6680 [==============================] - 23s - loss: 3.0966 - acc: 0.2879 - val_loss: 1.2158 - val_acc: 0.6551\n",
      "Epoch 2/20\n",
      "6660/6680 [============================>.] - ETA: 0s - loss: 1.4199 - acc: 0.5929Epoch 00001: val_loss improved from 1.21578 to 0.79599, saving model to saved_models/weights.best.Resnet50.hdf5\n",
      "6680/6680 [==============================] - 7s - loss: 1.4185 - acc: 0.5934 - val_loss: 0.7960 - val_acc: 0.7569\n",
      "Epoch 3/20\n",
      "6620/6680 [============================>.] - ETA: 0s - loss: 1.0452 - acc: 0.6923Epoch 00002: val_loss improved from 0.79599 to 0.69475, saving model to saved_models/weights.best.Resnet50.hdf5\n",
      "6680/6680 [==============================] - 8s - loss: 1.0433 - acc: 0.6928 - val_loss: 0.6948 - val_acc: 0.7904\n",
      "Epoch 4/20\n",
      "6660/6680 [============================>.] - ETA: 0s - loss: 0.8611 - acc: 0.7368Epoch 00003: val_loss improved from 0.69475 to 0.68690, saving model to saved_models/weights.best.Resnet50.hdf5\n",
      "6680/6680 [==============================] - 9s - loss: 0.8605 - acc: 0.7370 - val_loss: 0.6869 - val_acc: 0.7976\n",
      "Epoch 5/20\n",
      "6660/6680 [============================>.] - ETA: 0s - loss: 0.7410 - acc: 0.7764Epoch 00004: val_loss did not improve\n",
      "6680/6680 [==============================] - 9s - loss: 0.7426 - acc: 0.7757 - val_loss: 0.7085 - val_acc: 0.7868\n",
      "Epoch 6/20\n",
      "6660/6680 [============================>.] - ETA: 0s - loss: 0.6470 - acc: 0.7986Epoch 00005: val_loss improved from 0.68690 to 0.66507, saving model to saved_models/weights.best.Resnet50.hdf5\n",
      "6680/6680 [==============================] - 9s - loss: 0.6463 - acc: 0.7987 - val_loss: 0.6651 - val_acc: 0.7988\n",
      "Epoch 7/20\n",
      "6620/6680 [============================>.] - ETA: 0s - loss: 0.6201 - acc: 0.8122Epoch 00006: val_loss did not improve\n",
      "6680/6680 [==============================] - 9s - loss: 0.6197 - acc: 0.8121 - val_loss: 0.6935 - val_acc: 0.7988\n",
      "Epoch 8/20\n",
      "6640/6680 [============================>.] - ETA: 0s - loss: 0.5584 - acc: 0.8276Epoch 00007: val_loss did not improve\n",
      "6680/6680 [==============================] - 9s - loss: 0.5572 - acc: 0.8277 - val_loss: 0.7414 - val_acc: 0.7964\n",
      "Epoch 9/20\n",
      "6660/6680 [============================>.] - ETA: 0s - loss: 0.5216 - acc: 0.8401Epoch 00008: val_loss did not improve\n",
      "6680/6680 [==============================] - 8s - loss: 0.5232 - acc: 0.8395 - val_loss: 0.7345 - val_acc: 0.8168\n",
      "Epoch 10/20\n",
      "6620/6680 [============================>.] - ETA: 0s - loss: 0.4734 - acc: 0.8512Epoch 00009: val_loss did not improve\n",
      "6680/6680 [==============================] - 8s - loss: 0.4732 - acc: 0.8513 - val_loss: 0.6874 - val_acc: 0.8180\n",
      "Epoch 11/20\n",
      "6620/6680 [============================>.] - ETA: 0s - loss: 0.4466 - acc: 0.8633Epoch 00010: val_loss did not improve\n",
      "6680/6680 [==============================] - 9s - loss: 0.4461 - acc: 0.8635 - val_loss: 0.7434 - val_acc: 0.8060\n",
      "Epoch 12/20\n",
      "6640/6680 [============================>.] - ETA: 0s - loss: 0.4344 - acc: 0.8660Epoch 00011: val_loss did not improve\n",
      "6680/6680 [==============================] - 8s - loss: 0.4355 - acc: 0.8654 - val_loss: 0.7060 - val_acc: 0.8228\n",
      "Epoch 13/20\n",
      "6660/6680 [============================>.] - ETA: 0s - loss: 0.4064 - acc: 0.8772Epoch 00012: val_loss did not improve\n",
      "6680/6680 [==============================] - 9s - loss: 0.4076 - acc: 0.8766 - val_loss: 0.7717 - val_acc: 0.8240\n",
      "Epoch 14/20\n",
      "6660/6680 [============================>.] - ETA: 0s - loss: 0.3922 - acc: 0.8820Epoch 00013: val_loss did not improve\n",
      "6680/6680 [==============================] - 9s - loss: 0.3914 - acc: 0.8820 - val_loss: 0.7587 - val_acc: 0.8096\n",
      "Epoch 15/20\n",
      "6620/6680 [============================>.] - ETA: 0s - loss: 0.3911 - acc: 0.8841Epoch 00014: val_loss did not improve\n",
      "6680/6680 [==============================] - 9s - loss: 0.3908 - acc: 0.8841 - val_loss: 0.7489 - val_acc: 0.8216\n",
      "Epoch 16/20\n",
      "6640/6680 [============================>.] - ETA: 0s - loss: 0.3557 - acc: 0.8943Epoch 00015: val_loss did not improve\n",
      "6680/6680 [==============================] - 9s - loss: 0.3544 - acc: 0.8946 - val_loss: 0.7326 - val_acc: 0.8168\n",
      "Epoch 17/20\n",
      "6660/6680 [============================>.] - ETA: 0s - loss: 0.3554 - acc: 0.8982Epoch 00016: val_loss did not improve\n",
      "6680/6680 [==============================] - 8s - loss: 0.3551 - acc: 0.8982 - val_loss: 0.8303 - val_acc: 0.8132\n",
      "Epoch 18/20\n",
      "6640/6680 [============================>.] - ETA: 0s - loss: 0.3452 - acc: 0.8995Epoch 00017: val_loss did not improve\n",
      "6680/6680 [==============================] - 8s - loss: 0.3459 - acc: 0.8993 - val_loss: 0.8628 - val_acc: 0.8144\n",
      "Epoch 19/20\n",
      "6660/6680 [============================>.] - ETA: 0s - loss: 0.3419 - acc: 0.9027Epoch 00018: val_loss did not improve\n",
      "6680/6680 [==============================] - 8s - loss: 0.3417 - acc: 0.9025 - val_loss: 0.8885 - val_acc: 0.8168\n",
      "Epoch 20/20\n",
      "6620/6680 [============================>.] - ETA: 0s - loss: 0.3175 - acc: 0.9069Epoch 00019: val_loss did not improve\n",
      "6680/6680 [==============================] - 8s - loss: 0.3190 - acc: 0.9070 - val_loss: 0.8240 - val_acc: 0.8180\n"
     ]
    },
    {
     "data": {
      "text/plain": [
       "<keras.callbacks.History at 0x7feb13ea62b0>"
      ]
     },
     "execution_count": 88,
     "metadata": {},
     "output_type": "execute_result"
    }
   ],
   "source": [
    "checkpointer = ModelCheckpoint(filepath='saved_models/weights.best.Resnet50.hdf5', \n",
    "                               verbose=1, save_best_only=True)\n",
    "\n",
    "Resnet50_model.fit(train_Resnet50, train_targets, \n",
    "          validation_data=(valid_Resnet50, valid_targets),\n",
    "          epochs=20, batch_size=20, callbacks=[checkpointer], verbose=1)"
   ]
  },
  {
   "cell_type": "markdown",
   "metadata": {},
   "source": [
    "### (IMPLEMENTATION) Load the Model with the Best Validation Loss"
   ]
  },
  {
   "cell_type": "code",
   "execution_count": 89,
   "metadata": {
    "collapsed": true
   },
   "outputs": [],
   "source": [
    "Resnet50_model.load_weights('saved_models/weights.best.Resnet50.hdf5')"
   ]
  },
  {
   "cell_type": "markdown",
   "metadata": {},
   "source": [
    "### (IMPLEMENTATION) Test the Model\n",
    "\n",
    "Try out your model on the test dataset of dog images. Ensure that your test accuracy is greater than 60%."
   ]
  },
  {
   "cell_type": "code",
   "execution_count": 90,
   "metadata": {},
   "outputs": [
    {
     "name": "stdout",
     "output_type": "stream",
     "text": [
      "Test accuracy: 80.2632%\n"
     ]
    }
   ],
   "source": [
    "# get index of predicted dog breed for each image in test set\n",
    "Resnet50_predictions = [np.argmax(Resnet50_model.predict(np.expand_dims(feature, axis=0))) for feature in test_Resnet50]\n",
    "\n",
    "# report test accuracy\n",
    "test_accuracy = 100*np.sum(np.array(Resnet50_predictions)==np.argmax(test_targets, axis=1))/len(Resnet50_predictions)\n",
    "print('Test accuracy: %.4f%%' % test_accuracy)"
   ]
  },
  {
   "cell_type": "markdown",
   "metadata": {},
   "source": [
    "### (IMPLEMENTATION) Predict Dog Breed with the Model\n",
    "\n",
    "Write a function that takes an image path as input and returns the dog breed (`Affenpinscher`, `Afghan_hound`, etc) that is predicted by your model.  \n",
    "\n",
    "Similar to the analogous function in Step 5, your function should have three steps:\n",
    "1. Extract the bottleneck features corresponding to the chosen CNN model.\n",
    "2. Supply the bottleneck features as input to the model to return the predicted vector.  Note that the argmax of this prediction vector gives the index of the predicted dog breed.\n",
    "3. Use the `dog_names` array defined in Step 0 of this notebook to return the corresponding breed.\n",
    "\n",
    "The functions to extract the bottleneck features can be found in `extract_bottleneck_features.py`, and they have been imported in an earlier code cell.  To obtain the bottleneck features corresponding to your chosen CNN architecture, you need to use the function\n",
    "\n",
    "    extract_{network}\n",
    "    \n",
    "where `{network}`, in the above filename, should be one of `VGG19`, `Resnet50`, `InceptionV3`, or `Xception`."
   ]
  },
  {
   "cell_type": "code",
   "execution_count": 91,
   "metadata": {},
   "outputs": [
    {
     "data": {
      "text/plain": [
       "'Bernese_mountain_dog'"
      ]
     },
     "execution_count": 91,
     "metadata": {},
     "output_type": "execute_result"
    }
   ],
   "source": [
    "from extract_bottleneck_features import *\n",
    "\n",
    "\n",
    "def Resnet50_predict_breed(img_path):\n",
    "    # extract bottleneck features\n",
    "    bottleneck_feature = extract_Resnet50(path_to_tensor(img_path))\n",
    "    # obtain predicted vector\n",
    "    predicted_vector = Resnet50_model.predict(bottleneck_feature)\n",
    "    # return dog breed that is predicted by the model\n",
    "    return dog_names[np.argmax(predicted_vector)]\n",
    "\n",
    "Resnet50_predict_breed('dogImages/valid/023.Bernese_mountain_dog/Bernese_mountain_dog_01635.jpg')"
   ]
  },
  {
   "cell_type": "markdown",
   "metadata": {},
   "source": [
    "It was correct!"
   ]
  },
  {
   "cell_type": "markdown",
   "metadata": {},
   "source": [
    "---\n",
    "<a id='step6'></a>\n",
    "## Step 6: Write your Algorithm\n",
    "\n",
    "Write an algorithm that accepts a file path to an image and first determines whether the image contains a human, dog, or neither.  Then,\n",
    "- if a __dog__ is detected in the image, return the predicted breed.\n",
    "- if a __human__ is detected in the image, return the resembling dog breed.\n",
    "- if __neither__ is detected in the image, provide output that indicates an error.\n",
    "\n",
    "You are welcome to write your own functions for detecting humans and dogs in images, but feel free to use the `face_detector` and `dog_detector` functions developed above.  You are __required__ to use your CNN from Step 5 to predict dog breed.  \n",
    "\n",
    "Some sample output for our algorithm is provided below, but feel free to design your own user experience!\n",
    "\n",
    "![Sample Human Output](images/sample_human_output.png)\n",
    "\n",
    "\n",
    "### (IMPLEMENTATION) Write your Algorithm"
   ]
  },
  {
   "cell_type": "code",
   "execution_count": 92,
   "metadata": {},
   "outputs": [],
   "source": [
    "\n",
    "def which_breed(img_path):\n",
    "    # check dog first because this algo is better at discriminating\n",
    "    # than the face_detector\n",
    "    if dog_detector(img_path):\n",
    "        # return predicted breed\n",
    "        print (\"This is a \" + Resnet50_predict_breed(img_path)+ \"!\")\n",
    "    elif face_detector(img_path):\n",
    "        # return predicted breed\n",
    "        print (\"You look like a \" + Resnet50_predict_breed(img_path) + \"!\")\n",
    "    \n",
    "    else:\n",
    "        print (\"I'm confused. Show me dogs and humans.\")\n"
   ]
  },
  {
   "cell_type": "markdown",
   "metadata": {},
   "source": [
    "---\n",
    "<a id='step7'></a>\n",
    "## Step 7: Test Your Algorithm\n",
    "\n",
    "In this section, you will take your new algorithm for a spin!  What kind of dog does the algorithm think that __you__ look like?  If you have a dog, does it predict your dog's breed accurately?  If you have a cat, does it mistakenly think that your cat is a dog?\n",
    "\n",
    "### (IMPLEMENTATION) Test Your Algorithm on Sample Images!\n",
    "\n",
    "Test your algorithm at least six images on your computer.  Feel free to use any images you like.  Use at least two human and two dog images.  \n",
    "\n",
    "__Question 6:__ Is the output better than you expected :) ?  Or worse :( ?  Provide at least three possible points of improvement for your algorithm."
   ]
  },
  {
   "cell_type": "code",
   "execution_count": 93,
   "metadata": {},
   "outputs": [
    {
     "name": "stdout",
     "output_type": "stream",
     "text": [
      "You look like a Silky_terrier!\n",
      "Finding dog breeds took 55.65914249420166 seconds.\n",
      "You look like a Dachshund!\n",
      "You look like a Silky_terrier!\n",
      "This is a American_water_spaniel!\n",
      "Finding dog breeds took 37.420576333999634 seconds.\n",
      "This is a Chesapeake_bay_retriever!\n",
      "I'm confused. Show me dogs and humans.\n",
      "I'm confused. Show me dogs and humans.\n",
      "I'm confused. Show me dogs and humans.\n"
     ]
    }
   ],
   "source": [
    "## TODO: Execute your algorithm from Step 6 on\n",
    "## at least 6 images on your computer.\n",
    "## Feel free to use as many code cells as needed.\n",
    "human_1 = \"images/theresa.jpg\"\n",
    "human_2 = \"images/Kim-Jong-Un.jpg\"\n",
    "human_3 = \"lfw/Afton_Smith/Afton_Smith_0001.jpg\"\n",
    "doggo_1 = \"images/American_water_spaniel_00648.jpg\"\n",
    "doggo_2 = \"images/Labrador_retriever_06455.jpg\"\n",
    "train_pic = \"images/train.jpg\"\n",
    "horse_pic = \"images/horse.jpg\"\n",
    "chimp_pic = \"images/chimpanzee.jpg\"\n",
    "import time\n",
    "ti = time.time()\n",
    "which_breed(human_1)\n",
    "print (\"Finding dog breeds took {} seconds.\".format(time.time()- ti))\n",
    "which_breed(human_3)\n",
    "which_breed(human_2)\n",
    "ti = time.time()\n",
    "which_breed(doggo_1)\n",
    "print (\"Finding dog breeds took {} seconds.\".format(time.time()- ti))\n",
    "which_breed(doggo_2)\n",
    "which_breed(train_pic)\n",
    "which_breed(horse_pic)\n",
    "which_breed(chimp_pic)\n"
   ]
  },
  {
   "cell_type": "markdown",
   "metadata": {},
   "source": [
    "__Answer:__ Above we see the results for the 7 images. The American Water Spaniel is guessed correctly, which is very impressive given their similarity to Curly-Coated Retrievers. However, the Labrador Retriever was guessed incorrectly as a Chesapeake bay retriever, though this is understandable as there are many different types of labrador/retriever to get confused between. The humans are all given feasible dog breed suggestions and the non-human/canine suggestions all return the correct result - even the pictures of a horse and a chimpanzee, which arguably look like dogs and humans.\n",
    "\n",
    "- To improve the user experience of the algorithm I would show an example image of the suggested dog breed to the user and perhaps find some trivia information about whichever type of dog it is. \n",
    "- Another potential fault is that although there are over 100 potential breeds to choose from the algorithm suggested Silky Terrier for two of the human images even though they don't look similar at all (one is Theresa May and one is Kim-Jong Un). It may be that a few dog breeds dominate the choices the algorithm makes when given human inputs. It could help to introduce some randomness into the choice of the most probable dog breeds when given human face inputs.\n",
    "- Apart from when shown neither a dog or a human the algorithm can take up to a minute to find each result. In the modern world a minute is too long to wait for anything, so this would have to be decreased substantially. Using the extra dense layer with dropout is perhaps an over-complication, adding too many parameters to the model. Using the same implementation as in the VGG16 case, with just a single fully-connected layer with global pooling average actually performs better on the test set (81.55) and cuts the prediction time down to around 20 seconds. Further bottlenecks are likely to be the extraction process in `Resnet50_predict_breed` which I'm sure could be optimised somehow."
   ]
  },
  {
   "cell_type": "code",
   "execution_count": null,
   "metadata": {
    "collapsed": true
   },
   "outputs": [],
   "source": []
  }
 ],
 "metadata": {
  "anaconda-cloud": {},
  "kernelspec": {
   "display_name": "Python 3",
   "language": "python",
   "name": "python3"
  },
  "language_info": {
   "codemirror_mode": {
    "name": "ipython",
    "version": 3
   },
   "file_extension": ".py",
   "mimetype": "text/x-python",
   "name": "python",
   "nbconvert_exporter": "python",
   "pygments_lexer": "ipython3",
   "version": "3.6.1"
  }
 },
 "nbformat": 4,
 "nbformat_minor": 1
}
